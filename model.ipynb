{
  "nbformat": 4,
  "nbformat_minor": 0,
  "metadata": {
    "colab": {
      "name": "model.ipynb",
      "provenance": [],
      "collapsed_sections": [],
      "authorship_tag": "ABX9TyOusXA8KK4OKm871XYAve/V"
    },
    "kernelspec": {
      "name": "python3",
      "display_name": "Python 3"
    },
    "language_info": {
      "name": "python"
    }
  },
  "cells": [
    {
      "cell_type": "code",
      "execution_count": null,
      "metadata": {
        "id": "HkX5iDm72Oju"
      },
      "outputs": [],
      "source": [
        "from google.colab import drive\n",
        "import os\n",
        "import glob\n",
        "import random\n",
        "import shutil"
      ]
    },
    {
      "cell_type": "markdown",
      "source": [
        "# **Configuring Kaggle**"
      ],
      "metadata": {
        "id": "o2MMiijtBHS1"
      }
    },
    {
      "cell_type": "code",
      "source": [
        "os.environ['KAGGLE_CONFIG_DIR'] = \"/content/drive/MyDrive/Kaggle\"\n",
        "drive.mount('/content/drive')"
      ],
      "metadata": {
        "id": "ZJa2F6rc2ZJo"
      },
      "execution_count": null,
      "outputs": []
    },
    {
      "cell_type": "markdown",
      "source": [
        "# Organizing data"
      ],
      "metadata": {
        "id": "7GKJN611Bk5v"
      }
    },
    {
      "cell_type": "code",
      "source": [
        "if os.path.isdir('./data/faces/train') is False:\n",
        "  os.mkdir(\"./data/faces/train\")\n",
        "  os.mkdir(\"./data/faces/valid\")\n",
        "  os.mkdir(\"./data/faces/test\")\n",
        "\n",
        "  for i in random.sample(glob.glob(\"./data/faces/face*\"), 2406):\n",
        "    shutil.move(i, \"./data/faces/train\")\n",
        "  \n",
        "  for i in random.sample(glob.glob(\"./data/faces/face*\"), 2406):\n",
        "    shutil.move(i, \"./data/faces/valid\")\n",
        "\n",
        "  for i in random.sample(glob.glob(\"./data/faces/face*\"), 2406):\n",
        "    shutil.move(i, \"./data/faces/test\")\n",
        "\n",
        "  print(\"Data organized!\")\n",
        "\n",
        "else:\n",
        "  print(\"Data has already been organized\")"
      ],
      "metadata": {
        "colab": {
          "base_uri": "https://localhost:8080/"
        },
        "id": "-_9GOmp93ED_",
        "outputId": "ff57cf6e-1971-4d01-c0e2-91b1188f5b67"
      },
      "execution_count": null,
      "outputs": [
        {
          "output_type": "stream",
          "name": "stdout",
          "text": [
            "Data has already been organized\n"
          ]
        }
      ]
    }
  ]
}